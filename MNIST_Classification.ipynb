{
  "cells": [
    {
      "cell_type": "markdown",
      "metadata": {
        "id": "view-in-github",
        "colab_type": "text"
      },
      "source": [
        "<a href=\"https://colab.research.google.com/github/Hamza-Ali0237/MNIST-Classification-TensorFlow-Keras/blob/main/MNIST_Classification.ipynb\" target=\"_parent\"><img src=\"https://colab.research.google.com/assets/colab-badge.svg\" alt=\"Open In Colab\"/></a>"
      ]
    },
    {
      "cell_type": "markdown",
      "source": [
        "# Import Libraries & Dataset"
      ],
      "metadata": {
        "id": "81wIVXKAGepm"
      }
    },
    {
      "cell_type": "code",
      "execution_count": 1,
      "metadata": {
        "id": "joRSba-JGNJW"
      },
      "outputs": [],
      "source": [
        "import numpy as np\n",
        "import matplotlib.pyplot as plt\n",
        "\n",
        "import tensorflow as tf\n",
        "from tensorflow.keras.datasets import mnist\n",
        "from tensorflow.keras.models import Sequential\n",
        "from tensorflow.keras.layers import Dense\n",
        "from tensorflow.keras.utils import to_categorical\n",
        "\n",
        "from sklearn.model_selection import train_test_split"
      ]
    },
    {
      "cell_type": "markdown",
      "source": [
        "# Load The Dataset"
      ],
      "metadata": {
        "id": "1HWB7nuYG-Mp"
      }
    },
    {
      "cell_type": "code",
      "source": [
        "data_mnist = mnist.load_data()"
      ],
      "metadata": {
        "id": "T3XngvL1HBLL"
      },
      "execution_count": 2,
      "outputs": []
    },
    {
      "cell_type": "code",
      "source": [
        "print(data_mnist)"
      ],
      "metadata": {
        "colab": {
          "base_uri": "https://localhost:8080/"
        },
        "id": "KQ82gADyHjw_",
        "outputId": "6f723506-36c9-4120-e80e-43ea77db17f3"
      },
      "execution_count": 3,
      "outputs": [
        {
          "output_type": "stream",
          "name": "stdout",
          "text": [
            "((array([[[0, 0, 0, ..., 0, 0, 0],\n",
            "        [0, 0, 0, ..., 0, 0, 0],\n",
            "        [0, 0, 0, ..., 0, 0, 0],\n",
            "        ...,\n",
            "        [0, 0, 0, ..., 0, 0, 0],\n",
            "        [0, 0, 0, ..., 0, 0, 0],\n",
            "        [0, 0, 0, ..., 0, 0, 0]],\n",
            "\n",
            "       [[0, 0, 0, ..., 0, 0, 0],\n",
            "        [0, 0, 0, ..., 0, 0, 0],\n",
            "        [0, 0, 0, ..., 0, 0, 0],\n",
            "        ...,\n",
            "        [0, 0, 0, ..., 0, 0, 0],\n",
            "        [0, 0, 0, ..., 0, 0, 0],\n",
            "        [0, 0, 0, ..., 0, 0, 0]],\n",
            "\n",
            "       [[0, 0, 0, ..., 0, 0, 0],\n",
            "        [0, 0, 0, ..., 0, 0, 0],\n",
            "        [0, 0, 0, ..., 0, 0, 0],\n",
            "        ...,\n",
            "        [0, 0, 0, ..., 0, 0, 0],\n",
            "        [0, 0, 0, ..., 0, 0, 0],\n",
            "        [0, 0, 0, ..., 0, 0, 0]],\n",
            "\n",
            "       ...,\n",
            "\n",
            "       [[0, 0, 0, ..., 0, 0, 0],\n",
            "        [0, 0, 0, ..., 0, 0, 0],\n",
            "        [0, 0, 0, ..., 0, 0, 0],\n",
            "        ...,\n",
            "        [0, 0, 0, ..., 0, 0, 0],\n",
            "        [0, 0, 0, ..., 0, 0, 0],\n",
            "        [0, 0, 0, ..., 0, 0, 0]],\n",
            "\n",
            "       [[0, 0, 0, ..., 0, 0, 0],\n",
            "        [0, 0, 0, ..., 0, 0, 0],\n",
            "        [0, 0, 0, ..., 0, 0, 0],\n",
            "        ...,\n",
            "        [0, 0, 0, ..., 0, 0, 0],\n",
            "        [0, 0, 0, ..., 0, 0, 0],\n",
            "        [0, 0, 0, ..., 0, 0, 0]],\n",
            "\n",
            "       [[0, 0, 0, ..., 0, 0, 0],\n",
            "        [0, 0, 0, ..., 0, 0, 0],\n",
            "        [0, 0, 0, ..., 0, 0, 0],\n",
            "        ...,\n",
            "        [0, 0, 0, ..., 0, 0, 0],\n",
            "        [0, 0, 0, ..., 0, 0, 0],\n",
            "        [0, 0, 0, ..., 0, 0, 0]]], dtype=uint8), array([5, 0, 4, ..., 5, 6, 8], dtype=uint8)), (array([[[0, 0, 0, ..., 0, 0, 0],\n",
            "        [0, 0, 0, ..., 0, 0, 0],\n",
            "        [0, 0, 0, ..., 0, 0, 0],\n",
            "        ...,\n",
            "        [0, 0, 0, ..., 0, 0, 0],\n",
            "        [0, 0, 0, ..., 0, 0, 0],\n",
            "        [0, 0, 0, ..., 0, 0, 0]],\n",
            "\n",
            "       [[0, 0, 0, ..., 0, 0, 0],\n",
            "        [0, 0, 0, ..., 0, 0, 0],\n",
            "        [0, 0, 0, ..., 0, 0, 0],\n",
            "        ...,\n",
            "        [0, 0, 0, ..., 0, 0, 0],\n",
            "        [0, 0, 0, ..., 0, 0, 0],\n",
            "        [0, 0, 0, ..., 0, 0, 0]],\n",
            "\n",
            "       [[0, 0, 0, ..., 0, 0, 0],\n",
            "        [0, 0, 0, ..., 0, 0, 0],\n",
            "        [0, 0, 0, ..., 0, 0, 0],\n",
            "        ...,\n",
            "        [0, 0, 0, ..., 0, 0, 0],\n",
            "        [0, 0, 0, ..., 0, 0, 0],\n",
            "        [0, 0, 0, ..., 0, 0, 0]],\n",
            "\n",
            "       ...,\n",
            "\n",
            "       [[0, 0, 0, ..., 0, 0, 0],\n",
            "        [0, 0, 0, ..., 0, 0, 0],\n",
            "        [0, 0, 0, ..., 0, 0, 0],\n",
            "        ...,\n",
            "        [0, 0, 0, ..., 0, 0, 0],\n",
            "        [0, 0, 0, ..., 0, 0, 0],\n",
            "        [0, 0, 0, ..., 0, 0, 0]],\n",
            "\n",
            "       [[0, 0, 0, ..., 0, 0, 0],\n",
            "        [0, 0, 0, ..., 0, 0, 0],\n",
            "        [0, 0, 0, ..., 0, 0, 0],\n",
            "        ...,\n",
            "        [0, 0, 0, ..., 0, 0, 0],\n",
            "        [0, 0, 0, ..., 0, 0, 0],\n",
            "        [0, 0, 0, ..., 0, 0, 0]],\n",
            "\n",
            "       [[0, 0, 0, ..., 0, 0, 0],\n",
            "        [0, 0, 0, ..., 0, 0, 0],\n",
            "        [0, 0, 0, ..., 0, 0, 0],\n",
            "        ...,\n",
            "        [0, 0, 0, ..., 0, 0, 0],\n",
            "        [0, 0, 0, ..., 0, 0, 0],\n",
            "        [0, 0, 0, ..., 0, 0, 0]]], dtype=uint8), array([7, 2, 1, ..., 4, 5, 6], dtype=uint8)))\n"
          ]
        }
      ]
    },
    {
      "cell_type": "markdown",
      "source": [
        "# Split The Dataset"
      ],
      "metadata": {
        "id": "4zHVeLRuHq7V"
      }
    },
    {
      "cell_type": "code",
      "source": [
        "(X_train, y_train), (X_test, y_test) = data_mnist"
      ],
      "metadata": {
        "id": "KkaNDwdzHqI0"
      },
      "execution_count": 4,
      "outputs": []
    },
    {
      "cell_type": "markdown",
      "source": [
        "### One-hot Encode Target Variable"
      ],
      "metadata": {
        "id": "HjznRM5wTJG3"
      }
    },
    {
      "cell_type": "code",
      "source": [
        "y_train = to_categorical(y_train, num_classes=10)\n",
        "y_test = to_categorical(y_test, 10)"
      ],
      "metadata": {
        "id": "WQI74yq-PV1o"
      },
      "execution_count": 5,
      "outputs": []
    },
    {
      "cell_type": "markdown",
      "source": [
        "### Split The Data Into Training, Validation, And Test"
      ],
      "metadata": {
        "id": "QyE6cMAlTVlw"
      }
    },
    {
      "cell_type": "code",
      "source": [
        "X_train, X_val, y_train, y_val = train_test_split(X_train, y_train, test_size=0.2, random_state=42)\n",
        "X_train, X_test, y_train, y_test = train_test_split(X_train, y_train, test_size=0.1, random_state=42)"
      ],
      "metadata": {
        "id": "KiI4wiU6THTv"
      },
      "execution_count": 6,
      "outputs": []
    },
    {
      "cell_type": "markdown",
      "source": [
        "# Data Preprocessing"
      ],
      "metadata": {
        "id": "1Q5YDvw4ItFN"
      }
    },
    {
      "cell_type": "markdown",
      "source": [
        "### Reshape The Data"
      ],
      "metadata": {
        "id": "ZLRcc723IyPP"
      }
    },
    {
      "cell_type": "code",
      "source": [
        "X_train = X_train.reshape((X_train.shape[0], 28*28)).astype('float32')\n",
        "X_val = X_val.reshape((X_val.shape[0], 28*28)).astype('float32')\n",
        "X_test = X_test.reshape((X_test.shape[0], 28*28)).astype('float32')"
      ],
      "metadata": {
        "id": "ZaOveLsXH80H"
      },
      "execution_count": 7,
      "outputs": []
    },
    {
      "cell_type": "markdown",
      "source": [
        "### Normalize The Data"
      ],
      "metadata": {
        "id": "MVj3eyP6JMhb"
      }
    },
    {
      "cell_type": "code",
      "source": [
        "X_train = X_train / 255\n",
        "X_test = X_test / 255"
      ],
      "metadata": {
        "id": "Cn2LleLjJKmn"
      },
      "execution_count": 8,
      "outputs": []
    },
    {
      "cell_type": "code",
      "source": [
        "print(\"Shape of X_train: \", X_train.shape)\n",
        "print(\"Shape of y_train: \", y_train.shape)\n",
        "\n",
        "print(\"Shape of X_val: \", X_val.shape)\n",
        "print(\"Shape of y_val: \", y_val.shape)\n",
        "\n",
        "print(\"Shape of X_test: \", X_test.shape)\n",
        "print(\"Shape of y_test: \", y_test.shape)"
      ],
      "metadata": {
        "colab": {
          "base_uri": "https://localhost:8080/"
        },
        "id": "q36x76k2HmLX",
        "outputId": "b8cb22d4-f0eb-4670-c772-8a6bbb0c48d7"
      },
      "execution_count": 9,
      "outputs": [
        {
          "output_type": "stream",
          "name": "stdout",
          "text": [
            "Shape of X_train:  (43200, 784)\n",
            "Shape of y_train:  (43200, 10)\n",
            "Shape of X_val:  (12000, 784)\n",
            "Shape of y_val:  (12000, 10)\n",
            "Shape of X_test:  (4800, 784)\n",
            "Shape of y_test:  (4800, 10)\n"
          ]
        }
      ]
    },
    {
      "cell_type": "markdown",
      "source": [
        "# Create Baseline Model"
      ],
      "metadata": {
        "id": "sQ7Ig_9WJY7M"
      }
    },
    {
      "cell_type": "code",
      "source": [
        "def create_base_model(input_shape = 28*28):\n",
        "  model = Sequential()\n",
        "  model.add(Dense(32, activation='relu', input_dim = input_shape))\n",
        "  model.add(Dense(64, activation='relu'))\n",
        "  model.add(Dense(10, activation='softmax'))\n",
        "\n",
        "  return (model)"
      ],
      "metadata": {
        "id": "9rkW9uN7JW-3"
      },
      "execution_count": 10,
      "outputs": []
    },
    {
      "cell_type": "code",
      "source": [
        "# Create Base Model\n",
        "base_model = create_base_model()\n",
        "\n",
        "# Compile The Base Model\n",
        "base_model.compile(optimizer='adam', loss=\"categorical_crossentropy\", metrics=['accuracy'])\n",
        "\n",
        "# Print Model Summary\n",
        "base_model_summary = base_model.summary()\n",
        "print(base_model_summary)"
      ],
      "metadata": {
        "colab": {
          "base_uri": "https://localhost:8080/"
        },
        "id": "rdxhfjaVL1SK",
        "outputId": "d3d44af6-d9d6-43d1-dd0f-5139b1d790cc"
      },
      "execution_count": 11,
      "outputs": [
        {
          "output_type": "stream",
          "name": "stdout",
          "text": [
            "Model: \"sequential\"\n",
            "_________________________________________________________________\n",
            " Layer (type)                Output Shape              Param #   \n",
            "=================================================================\n",
            " dense (Dense)               (None, 32)                25120     \n",
            "                                                                 \n",
            " dense_1 (Dense)             (None, 64)                2112      \n",
            "                                                                 \n",
            " dense_2 (Dense)             (None, 10)                650       \n",
            "                                                                 \n",
            "=================================================================\n",
            "Total params: 27882 (108.91 KB)\n",
            "Trainable params: 27882 (108.91 KB)\n",
            "Non-trainable params: 0 (0.00 Byte)\n",
            "_________________________________________________________________\n",
            "None\n"
          ]
        }
      ]
    },
    {
      "cell_type": "code",
      "source": [
        "hist_base_model = base_model.fit(X_train, y_train, validation_data=(X_val, y_val), epochs=20, batch_size=32)"
      ],
      "metadata": {
        "colab": {
          "base_uri": "https://localhost:8080/"
        },
        "id": "z_1U2OCrMnSO",
        "outputId": "3ce5a53d-4b77-4cc6-ff53-dfbdf22a9364"
      },
      "execution_count": 12,
      "outputs": [
        {
          "output_type": "stream",
          "name": "stdout",
          "text": [
            "Epoch 1/20\n",
            "1350/1350 [==============================] - 15s 6ms/step - loss: 0.3718 - accuracy: 0.8921 - val_loss: 31.4469 - val_accuracy: 0.9313\n",
            "Epoch 2/20\n",
            "1350/1350 [==============================] - 6s 4ms/step - loss: 0.1833 - accuracy: 0.9452 - val_loss: 23.4680 - val_accuracy: 0.9485\n",
            "Epoch 3/20\n",
            "1350/1350 [==============================] - 5s 4ms/step - loss: 0.1421 - accuracy: 0.9574 - val_loss: 26.3886 - val_accuracy: 0.9473\n",
            "Epoch 4/20\n",
            "1350/1350 [==============================] - 7s 5ms/step - loss: 0.1159 - accuracy: 0.9646 - val_loss: 24.1735 - val_accuracy: 0.9528\n",
            "Epoch 5/20\n",
            "1350/1350 [==============================] - 7s 5ms/step - loss: 0.1000 - accuracy: 0.9691 - val_loss: 20.4265 - val_accuracy: 0.9645\n",
            "Epoch 6/20\n",
            "1350/1350 [==============================] - 5s 3ms/step - loss: 0.0853 - accuracy: 0.9732 - val_loss: 19.9312 - val_accuracy: 0.9644\n",
            "Epoch 7/20\n",
            "1350/1350 [==============================] - 6s 4ms/step - loss: 0.0751 - accuracy: 0.9759 - val_loss: 21.8313 - val_accuracy: 0.9611\n",
            "Epoch 8/20\n",
            "1350/1350 [==============================] - 5s 3ms/step - loss: 0.0665 - accuracy: 0.9789 - val_loss: 25.3883 - val_accuracy: 0.9603\n",
            "Epoch 9/20\n",
            "1350/1350 [==============================] - 5s 4ms/step - loss: 0.0604 - accuracy: 0.9808 - val_loss: 19.5722 - val_accuracy: 0.9663\n",
            "Epoch 10/20\n",
            "1350/1350 [==============================] - 5s 4ms/step - loss: 0.0546 - accuracy: 0.9827 - val_loss: 26.6087 - val_accuracy: 0.9619\n",
            "Epoch 11/20\n",
            "1350/1350 [==============================] - 5s 4ms/step - loss: 0.0475 - accuracy: 0.9849 - val_loss: 25.3919 - val_accuracy: 0.9638\n",
            "Epoch 12/20\n",
            "1350/1350 [==============================] - 6s 5ms/step - loss: 0.0429 - accuracy: 0.9864 - val_loss: 30.1574 - val_accuracy: 0.9605\n",
            "Epoch 13/20\n",
            "1350/1350 [==============================] - 5s 4ms/step - loss: 0.0413 - accuracy: 0.9866 - val_loss: 28.6777 - val_accuracy: 0.9622\n",
            "Epoch 14/20\n",
            "1350/1350 [==============================] - 5s 4ms/step - loss: 0.0362 - accuracy: 0.9881 - val_loss: 27.1159 - val_accuracy: 0.9647\n",
            "Epoch 15/20\n",
            "1350/1350 [==============================] - 7s 5ms/step - loss: 0.0337 - accuracy: 0.9894 - val_loss: 27.4237 - val_accuracy: 0.9681\n",
            "Epoch 16/20\n",
            "1350/1350 [==============================] - 5s 4ms/step - loss: 0.0303 - accuracy: 0.9901 - val_loss: 28.2143 - val_accuracy: 0.9663\n",
            "Epoch 17/20\n",
            "1350/1350 [==============================] - 6s 4ms/step - loss: 0.0294 - accuracy: 0.9903 - val_loss: 35.6669 - val_accuracy: 0.9605\n",
            "Epoch 18/20\n",
            "1350/1350 [==============================] - 5s 3ms/step - loss: 0.0258 - accuracy: 0.9916 - val_loss: 26.4056 - val_accuracy: 0.9686\n",
            "Epoch 19/20\n",
            "1350/1350 [==============================] - 6s 4ms/step - loss: 0.0234 - accuracy: 0.9922 - val_loss: 29.0411 - val_accuracy: 0.9697\n",
            "Epoch 20/20\n",
            "1350/1350 [==============================] - 5s 4ms/step - loss: 0.0227 - accuracy: 0.9924 - val_loss: 35.3915 - val_accuracy: 0.9641\n"
          ]
        }
      ]
    },
    {
      "cell_type": "markdown",
      "source": [
        "### Plot Learning Curves"
      ],
      "metadata": {
        "id": "dPP7gXvZP4iZ"
      }
    },
    {
      "cell_type": "code",
      "source": [
        "def plot_learning_curves(history):\n",
        "    # Extracting accuracy and loss values from the history\n",
        "    accuracy = history.history['accuracy']\n",
        "    loss = history.history['loss']\n",
        "\n",
        "    # Extracting validation accuracy and validation loss values if available\n",
        "    if 'val_accuracy' in history.history:\n",
        "        val_accuracy = history.history['val_accuracy']\n",
        "        val_loss = history.history['val_loss']\n",
        "\n",
        "    # Plotting accuracy\n",
        "    plt.figure(figsize=(12, 4))\n",
        "\n",
        "    plt.subplot(1, 2, 1)\n",
        "    plt.plot(accuracy, label='Training Accuracy')\n",
        "    if 'val_accuracy' in history.history:\n",
        "        plt.plot(val_accuracy, label='Validation Accuracy')\n",
        "        plt.legend()\n",
        "    plt.title('Training and Validation Accuracy')\n",
        "    plt.xlabel('Epoch')\n",
        "    plt.ylabel('Accuracy')\n",
        "    plt.grid(True)\n",
        "\n",
        "    # Plotting loss\n",
        "    plt.subplot(1, 2, 2)\n",
        "    plt.plot(loss, label='Training Loss')\n",
        "    if 'val_loss' in history.history:\n",
        "        plt.plot(val_loss, label='Validation Loss')\n",
        "        plt.legend()\n",
        "    plt.title('Training and Validation Loss')\n",
        "    plt.xlabel('Epoch')\n",
        "    plt.ylabel('Loss')\n",
        "    plt.grid(True)\n",
        "\n",
        "    plt.tight_layout()\n",
        "    plt.show()"
      ],
      "metadata": {
        "id": "Hs2EchMlNKnA"
      },
      "execution_count": 13,
      "outputs": []
    },
    {
      "cell_type": "code",
      "source": [
        "plot_learning_curves(hist_base_model)"
      ],
      "metadata": {
        "id": "fLzqNxSNP1oI",
        "outputId": "f9e08cbe-173c-44fe-ea73-0e6b7524b6b7",
        "colab": {
          "base_uri": "https://localhost:8080/",
          "height": 407
        }
      },
      "execution_count": 14,
      "outputs": [
        {
          "output_type": "display_data",
          "data": {
            "text/plain": [
              "<Figure size 1200x400 with 2 Axes>"
            ],
            "image/png": "[encoded data removed]"
          },
          "metadata": {}
        }
      ]
    },
    {
      "cell_type": "markdown",
      "source": [
        "The seems to be underfitting."
      ],
      "metadata": {
        "id": "RZxXAQOwVU3U"
      }
    },
    {
      "cell_type": "code",
      "source": [],
      "metadata": {
        "id": "wxqYXsPFQkl5"
      },
      "execution_count": 14,
      "outputs": []
    }
  ],
  "metadata": {
    "language_info": {
      "name": "python"
    },
    "colab": {
      "provenance": [],
      "gpuType": "T4",
      "include_colab_link": true
    },
    "accelerator": "GPU",
    "kernelspec": {
      "name": "python3",
      "display_name": "Python 3"
    }
  },
  "nbformat": 4,
  "nbformat_minor": 0
}